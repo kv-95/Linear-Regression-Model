{
 "cells": [
  {
   "cell_type": "markdown",
   "id": "d999b759",
   "metadata": {},
   "source": [
    "# PREDICTION USING SUPERVISED ML"
   ]
  },
  {
   "cell_type": "markdown",
   "id": "4492aaee",
   "metadata": {},
   "source": [
    "A simple dataset with just 2 variables is given (Number of study hours and percentage of marks).  The task is to predict the percentage of marks based on the number of study hours."
   ]
  },
  {
   "cell_type": "markdown",
   "id": "e2d875c9",
   "metadata": {},
   "source": [
    "We'll first load the data and see which type of ML algorithm must be implemented."
   ]
  },
  {
   "cell_type": "markdown",
   "id": "b037942c",
   "metadata": {},
   "source": [
    "### Import Libraries\n",
    "\n",
    "We are going to use tensorflow to build the model"
   ]
  },
  {
   "cell_type": "code",
   "execution_count": 1,
   "id": "6bdfe581",
   "metadata": {},
   "outputs": [
    {
     "name": "stdout",
     "output_type": "stream",
     "text": [
      "WARNING:tensorflow:From c:\\users\\vishnu\\appdata\\local\\programs\\python\\python39\\lib\\site-packages\\tensorflow\\python\\compat\\v2_compat.py:96: disable_resource_variables (from tensorflow.python.ops.variable_scope) is deprecated and will be removed in a future version.\n",
      "Instructions for updating:\n",
      "non-resource variables are not supported in the long term\n"
     ]
    }
   ],
   "source": [
    "import numpy as np\n",
    "import pandas as pd\n",
    "import tensorflow.compat.v1 as tf\n",
    "tf.disable_v2_behavior()\n",
    "\n",
    "import matplotlib.pyplot as plt  \n",
    "%matplotlib inline"
   ]
  },
  {
   "cell_type": "markdown",
   "id": "3e83d553",
   "metadata": {},
   "source": [
    "### Loading Dataset"
   ]
  },
  {
   "cell_type": "code",
   "execution_count": 2,
   "id": "1f2d2888",
   "metadata": {},
   "outputs": [
    {
     "data": {
      "text/html": [
       "<div>\n",
       "<style scoped>\n",
       "    .dataframe tbody tr th:only-of-type {\n",
       "        vertical-align: middle;\n",
       "    }\n",
       "\n",
       "    .dataframe tbody tr th {\n",
       "        vertical-align: top;\n",
       "    }\n",
       "\n",
       "    .dataframe thead th {\n",
       "        text-align: right;\n",
       "    }\n",
       "</style>\n",
       "<table border=\"1\" class=\"dataframe\">\n",
       "  <thead>\n",
       "    <tr style=\"text-align: right;\">\n",
       "      <th></th>\n",
       "      <th>Hours</th>\n",
       "      <th>Scores</th>\n",
       "    </tr>\n",
       "  </thead>\n",
       "  <tbody>\n",
       "    <tr>\n",
       "      <th>0</th>\n",
       "      <td>2.5</td>\n",
       "      <td>21</td>\n",
       "    </tr>\n",
       "    <tr>\n",
       "      <th>1</th>\n",
       "      <td>5.1</td>\n",
       "      <td>47</td>\n",
       "    </tr>\n",
       "    <tr>\n",
       "      <th>2</th>\n",
       "      <td>3.2</td>\n",
       "      <td>27</td>\n",
       "    </tr>\n",
       "    <tr>\n",
       "      <th>3</th>\n",
       "      <td>8.5</td>\n",
       "      <td>75</td>\n",
       "    </tr>\n",
       "    <tr>\n",
       "      <th>4</th>\n",
       "      <td>3.5</td>\n",
       "      <td>30</td>\n",
       "    </tr>\n",
       "  </tbody>\n",
       "</table>\n",
       "</div>"
      ],
      "text/plain": [
       "   Hours  Scores\n",
       "0    2.5      21\n",
       "1    5.1      47\n",
       "2    3.2      27\n",
       "3    8.5      75\n",
       "4    3.5      30"
      ]
     },
     "execution_count": 2,
     "metadata": {},
     "output_type": "execute_result"
    }
   ],
   "source": [
    "url = \"http://bit.ly/w-data\"\n",
    "data = pd.read_csv(url)\n",
    "data.head(5)"
   ]
  },
  {
   "cell_type": "markdown",
   "id": "c3a7d8e4",
   "metadata": {},
   "source": [
    "Now let us plot and see if we could interpret something from the graph which could help us build the ML model."
   ]
  },
  {
   "cell_type": "markdown",
   "id": "d46d558a",
   "metadata": {},
   "source": [
    "### Plotting the dataset"
   ]
  },
  {
   "cell_type": "code",
   "execution_count": 3,
   "id": "192de93d",
   "metadata": {},
   "outputs": [
    {
     "data": {
      "image/png": "[encoded data removed]",
      "text/plain": [
       "<Figure size 432x288 with 1 Axes>"
      ]
     },
     "metadata": {
      "needs_background": "light"
     },
     "output_type": "display_data"
    }
   ],
   "source": [
    "data.plot(x='Hours', y='Scores', style='o') \n",
    "plt.title('Hours vs Percentage')  \n",
    "plt.xlabel('Hours Studied')  \n",
    "plt.ylabel('Percentage Score')  \n",
    "plt.show()"
   ]
  },
  {
   "cell_type": "markdown",
   "id": "2620b4a1",
   "metadata": {},
   "source": [
    "It is observed that the dataset follows a linear trend and hence we could build our model using linear regression."
   ]
  },
  {
   "cell_type": "markdown",
   "id": "5c23a52a",
   "metadata": {},
   "source": [
    "###  Preparing the Dataset"
   ]
  },
  {
   "cell_type": "markdown",
   "id": "6a563139",
   "metadata": {},
   "source": [
    "We'll divide the dataset into 2. One for training and the other for testing."
   ]
  },
  {
   "cell_type": "code",
   "execution_count": 4,
   "id": "13790f57",
   "metadata": {},
   "outputs": [],
   "source": [
    "x_train = data[\"Hours\"].sample(frac=0.8, random_state=0)\n",
    "y_train = data[\"Scores\"].sample(frac=0.8, random_state=0)\n",
    "\n",
    "x_test = data[\"Hours\"].drop(x_train.index)\n",
    "y_test = data[\"Scores\"].drop(y_train.index)"
   ]
  },
  {
   "cell_type": "markdown",
   "id": "85c510b6",
   "metadata": {},
   "source": [
    "Declare two trainable Tensorflow Variables for the Weights and Bias and initializing them randomly using np.random.randn(). X and Y are place holders, the training examples are fed into the optimizer using these."
   ]
  },
  {
   "cell_type": "code",
   "execution_count": 5,
   "id": "b83a35f7",
   "metadata": {},
   "outputs": [],
   "source": [
    "X = tf.placeholder(\"float\")\n",
    "Y = tf.placeholder(\"float\")\n",
    "\n",
    "W = tf.Variable(np.random.randn(), name = \"W\")\n",
    "b = tf.Variable(np.random.randn(), name = \"b\")"
   ]
  },
  {
   "cell_type": "code",
   "execution_count": 6,
   "id": "12a1408d",
   "metadata": {},
   "outputs": [],
   "source": [
    "learning_rate = 0.001\n",
    "training_epochs = 100"
   ]
  },
  {
   "cell_type": "markdown",
   "id": "cd2202b1",
   "metadata": {},
   "source": [
    "Next we ned to define the hypothesis (relation between x and y). Here, in linear regression, it is y = wx + b"
   ]
  },
  {
   "cell_type": "code",
   "execution_count": 7,
   "id": "053ff7a8",
   "metadata": {},
   "outputs": [],
   "source": [
    "# Hypothesis\n",
    "y_pred = tf.add(tf.multiply(X, W), b)\n",
    "\n",
    "n = len(x_train)\n",
    "\n",
    "# Mean Squared Error Cost Function\n",
    "cost = tf.reduce_sum(tf.pow(y_pred-Y, 2)) / (2 * n)\n",
    "  \n",
    "# Gradient Descent Optimizer\n",
    "optimizer = tf.train.GradientDescentOptimizer(learning_rate).minimize(cost)\n",
    "  \n",
    "# Global Variables Initializer\n",
    "init = tf.global_variables_initializer()"
   ]
  },
  {
   "cell_type": "code",
   "execution_count": 8,
   "id": "f2b1558d",
   "metadata": {},
   "outputs": [],
   "source": [
    "# Starting the Tensorflow Session\n",
    "with tf.Session() as sess:\n",
    "      \n",
    "    # Initializing the Variables\n",
    "    sess.run(init)\n",
    "      \n",
    "    # Iterating through all the epochs\n",
    "    for epoch in range(training_epochs):\n",
    "          \n",
    "        # Feeding each data point into the optimizer using Feed Dictionary\n",
    "        for (_x, _y) in zip(x_train, y_train):\n",
    "            sess.run(optimizer, feed_dict = {X : _x, Y : _y})\n",
    "      \n",
    "    # Storing necessary values to be used outside the Session\n",
    "    training_cost = sess.run(cost, feed_dict ={X: x_train, Y: y_train})\n",
    "    weight = sess.run(W)\n",
    "    bias = sess.run(b)"
   ]
  },
  {
   "cell_type": "code",
   "execution_count": 9,
   "id": "02a3895b",
   "metadata": {},
   "outputs": [
    {
     "name": "stdout",
     "output_type": "stream",
     "text": [
      "Training cost = 17.799417 Weight = 9.58588 bias = 0.66833454 \n",
      "\n"
     ]
    }
   ],
   "source": [
    " #Calculating the predictions\n",
    "predictions = weight * x_train + bias\n",
    "print(\"Training cost =\", training_cost, \"Weight =\", weight, \"bias =\", bias, '\\n')"
   ]
  },
  {
   "cell_type": "code",
   "execution_count": 10,
   "id": "096da9a8",
   "metadata": {},
   "outputs": [
    {
     "data": {
      "image/png": "[encoded data removed]",
      "text/plain": [
       "<Figure size 432x288 with 1 Axes>"
      ]
     },
     "metadata": {
      "needs_background": "light"
     },
     "output_type": "display_data"
    }
   ],
   "source": [
    "plt.plot(x_train, y_train, 'ro', label ='Original data')\n",
    "\n",
    "plt.plot(x_train, predictions, label ='Fitted line')\n",
    "\n",
    "plt.title('Linear Regression Result')\n",
    "plt.legend()\n",
    "plt.show()"
   ]
  },
  {
   "cell_type": "markdown",
   "id": "4a4cdd92",
   "metadata": {},
   "source": [
    "The blue line in the above plot is the line that fits the dataset and predictions will be made in future based on this."
   ]
  },
  {
   "cell_type": "markdown",
   "id": "5fa2300c",
   "metadata": {},
   "source": [
    "###  Predict for Test Dataset"
   ]
  },
  {
   "cell_type": "code",
   "execution_count": 11,
   "id": "ae1e9dab",
   "metadata": {},
   "outputs": [],
   "source": [
    "predicted_y = weight * x_test + bias"
   ]
  },
  {
   "cell_type": "code",
   "execution_count": 12,
   "id": "6f731f8b",
   "metadata": {},
   "outputs": [
    {
     "name": "stdout",
     "output_type": "stream",
     "text": [
      "    Actual  Predicted\n",
      "0       21  24.633035\n",
      "3       75  82.148317\n",
      "12      41  43.804796\n",
      "15      95  85.982669\n",
      "21      54  46.680560\n"
     ]
    }
   ],
   "source": [
    "df = pd.DataFrame({'Actual': y_test, 'Predicted':predicted_y})\n",
    "print(df)"
   ]
  },
  {
   "cell_type": "markdown",
   "id": "2c149f98",
   "metadata": {},
   "source": [
    "###  Calculting the error."
   ]
  },
  {
   "cell_type": "code",
   "execution_count": 13,
   "id": "8d113186",
   "metadata": {},
   "outputs": [
    {
     "name": "stdout",
     "output_type": "stream",
     "text": [
      "Mean Absolute Error: 5.984583809375762\n"
     ]
    }
   ],
   "source": [
    "from sklearn import metrics  \n",
    "print('Mean Absolute Error:', metrics.mean_absolute_error(y_test, predicted_y))"
   ]
  },
  {
   "cell_type": "markdown",
   "id": "6e8520be",
   "metadata": {},
   "source": [
    "### Calculating for random value"
   ]
  },
  {
   "cell_type": "markdown",
   "id": "39d6964f",
   "metadata": {},
   "source": [
    "Now let us find out the predicted score using the model if a student studies for 9.25 hrs."
   ]
  },
  {
   "cell_type": "code",
   "execution_count": 14,
   "id": "76756dd8",
   "metadata": {},
   "outputs": [
    {
     "name": "stdout",
     "output_type": "stream",
     "text": [
      "No of Hours = 9.25\n",
      "Predicted Score = 89.33772712945938\n"
     ]
    }
   ],
   "source": [
    "hours = 9.25\n",
    "predicted_y = weight * hours + bias\n",
    "print(\"No of Hours = {}\".format(hours))\n",
    "print(\"Predicted Score = {}\".format(predicted_y))"
   ]
  },
  {
   "cell_type": "markdown",
   "id": "37268011",
   "metadata": {},
   "source": [
    "## Conclusion"
   ]
  },
  {
   "cell_type": "markdown",
   "id": "64b3c716",
   "metadata": {},
   "source": [
    "The created model predicts the outcome with reasonable accuracy and error margin is around 6. Since the dataset is a small one, this error margin is to be expected. \n",
    "\n",
    "The predicted score of a student who studies for 9.25 hrs, accoridng to the model, is 89.33."
   ]
  }
 ],
 "metadata": {
  "kernelspec": {
   "display_name": "Python 3",
   "language": "python",
   "name": "python3"
  },
  "language_info": {
   "codemirror_mode": {
    "name": "ipython",
    "version": 3
   },
   "file_extension": ".py",
   "mimetype": "text/x-python",
   "name": "python",
   "nbconvert_exporter": "python",
   "pygments_lexer": "ipython3",
   "version": "3.9.5"
  }
 },
 "nbformat": 4,
 "nbformat_minor": 5
}
